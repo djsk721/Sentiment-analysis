{
 "cells": [
  {
   "cell_type": "code",
   "execution_count": 1,
   "metadata": {},
   "outputs": [],
   "source": [
    "import pandas as pd\n",
    "import numpy as np\n",
    "import sys\n",
    "\n",
    "sys.path.append(r\"C:\\Users\\kimju\\OneDrive\\바탕 화면\\Study\\파이썬\\git_repo\\Sentiment_analysis\\aihub\\018.감성대화\\Training_221115_add\\원천데이터\")\n",
    "sys.path.append(r\"C:\\Users\\kimju\\OneDrive\\바탕 화면\\Study\\파이썬\\git_repo\\Sentiment_analysis\\aihub\\018.감성대화\\Validation_221115_add\\원천데이터\")"
   ]
  },
  {
   "cell_type": "code",
   "execution_count": 2,
   "metadata": {},
   "outputs": [],
   "source": [
    "fin_t=pd.read_excel(r'aihub\\018.감성대화\\Training_221115_add\\원천데이터\\감성대화말뭉치(최종데이터)_Training.xlsx')\n",
    "fin_v=pd.read_excel(r'aihub\\018.감성대화\\Validation_221115_add\\원천데이터\\감성대화말뭉치(최종데이터)_Validation.xlsx')"
   ]
  },
  {
   "cell_type": "code",
   "execution_count": null,
   "metadata": {},
   "outputs": [],
   "source": [
    "fin_t=fin_t.fillna(\"\")\n",
    "fin_v=fin_v.fillna(\"\")"
   ]
  },
  {
   "cell_type": "code",
   "execution_count": 5,
   "metadata": {},
   "outputs": [],
   "source": [
    "fin_t[\"사람문장\"]=fin_t[\"사람문장1\"].astype(str)+fin_t[\"사람문장2\"].astype(str)+fin_t[\"사람문장3\"].astype(str).astype(str)\n",
    "fin_v[\"사람문장\"]=fin_v[\"사람문장1\"].astype(str)+fin_v[\"사람문장2\"].astype(str)+fin_v[\"사람문장3\"].astype(str).astype(str)"
   ]
  },
  {
   "cell_type": "code",
   "execution_count": 6,
   "metadata": {},
   "outputs": [],
   "source": [
    "df_concat=pd.concat([fin_t,fin_v])"
   ]
  },
  {
   "cell_type": "code",
   "execution_count": 8,
   "metadata": {},
   "outputs": [],
   "source": [
    "# 소분류 감정까지 분류를 원하는 경우(데이터 수가 적다)\n",
    "# 과대 적합이 심하다.\n",
    "final_df=df_concat[[\"사람문장\",\"감정_소분류\"]]\n",
    "final_df=final_df.rename({\"감정_소분류\":\"감정\"},axis=1)"
   ]
  },
  {
   "cell_type": "code",
   "execution_count": 6,
   "metadata": {},
   "outputs": [],
   "source": [
    "# 대분류 감정 분류\n",
    "final_df=df_concat[[\"사람문장\",\"감정_대분류\"]]\n",
    "final_df=final_df.rename({\"감정_대분류\":\"감정\"},axis=1)"
   ]
  },
  {
   "cell_type": "code",
   "execution_count": 1,
   "metadata": {},
   "outputs": [
    {
     "ename": "NameError",
     "evalue": "name 'final_df' is not defined",
     "output_type": "error",
     "traceback": [
      "\u001b[1;31m---------------------------------------------------------------------------\u001b[0m",
      "\u001b[1;31mNameError\u001b[0m                                 Traceback (most recent call last)",
      "Cell \u001b[1;32mIn[1], line 2\u001b[0m\n\u001b[0;32m      1\u001b[0m \u001b[39m#컬럼 내 데이터들의 공백(string) 제거\u001b[39;00m\n\u001b[1;32m----> 2\u001b[0m final_df[\u001b[39m\"\u001b[39m\u001b[39m감정\u001b[39m\u001b[39m\"\u001b[39m]\u001b[39m=\u001b[39mfinal_df[\u001b[39m\"\u001b[39m\u001b[39m감정\u001b[39m\u001b[39m\"\u001b[39m]\u001b[39m.\u001b[39mapply(\u001b[39mlambda\u001b[39;00m x:x\u001b[39m.\u001b[39mstrip())\n",
      "\u001b[1;31mNameError\u001b[0m: name 'final_df' is not defined"
     ]
    }
   ],
   "source": [
    "#컬럼 내 데이터들의 공백(string) 제거\n",
    "final_df[\"감정\"]=final_df[\"감정\"].apply(lambda x:x.strip())"
   ]
  },
  {
   "cell_type": "code",
   "execution_count": 8,
   "metadata": {},
   "outputs": [
    {
     "data": {
      "text/plain": [
       "감정\n",
       "불안    10433\n",
       "분노    10417\n",
       "상처    10150\n",
       "슬픔    10128\n",
       "당황     9804\n",
       "기쁨     7339\n",
       "Name: count, dtype: int64"
      ]
     },
     "execution_count": 8,
     "metadata": {},
     "output_type": "execute_result"
    }
   ],
   "source": [
    "final_df[\"감정\"].value_counts()"
   ]
  },
  {
   "cell_type": "code",
   "execution_count": 9,
   "metadata": {},
   "outputs": [],
   "source": [
    "final_df=final_df.reset_index(drop=True)"
   ]
  },
  {
   "cell_type": "code",
   "execution_count": 10,
   "metadata": {},
   "outputs": [],
   "source": [
    "# final_df.rename({\"사람문장\":\"발화\"},axis=1,inplace=True)\n",
    "final_df.rename({\"사람문장\":\"text\"},axis=1,inplace=True)\n",
    "final_df.rename({\"감정\":\"label\"},axis=1,inplace=True)\n"
   ]
  },
  {
   "cell_type": "code",
   "execution_count": 12,
   "metadata": {},
   "outputs": [],
   "source": [
    "final_df.to_csv(\"sentiment_dialogues.csv\")"
   ]
  }
 ],
 "metadata": {
  "kernelspec": {
   "display_name": "Sentiment_analysis",
   "language": "python",
   "name": "python3"
  },
  "language_info": {
   "codemirror_mode": {
    "name": "ipython",
    "version": 3
   },
   "file_extension": ".py",
   "mimetype": "text/x-python",
   "name": "python",
   "nbconvert_exporter": "python",
   "pygments_lexer": "ipython3",
   "version": "3.8.10"
  },
  "orig_nbformat": 4
 },
 "nbformat": 4,
 "nbformat_minor": 2
}
